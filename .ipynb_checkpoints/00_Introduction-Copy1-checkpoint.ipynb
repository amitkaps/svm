{
 "cells": [
  {
   "cell_type": "markdown",
   "metadata": {},
   "source": [
    "# Support Vector Machines"
   ]
  },
  {
   "cell_type": "markdown",
   "metadata": {},
   "source": [
    "One of the most successful learning method historically, (but now getting superceded by newer techniques!): \n",
    "- There is a principle derivation for the method\n",
    "- Nice optimisation package to do so\n",
    "- Intuitive understanding of the method\n",
    "\n",
    "\n",
    "Advantages of SVM\n",
    "- Effective in high dimensional spaces.\n",
    "- Still effective in cases where number of dimensions is greater than the number of samples.\n",
    "- Uses a subset of training points in the decision function (called support vectors), so it is also memory efficient.\n",
    "- Versatile: different Kernel functions can be specified for the decision function. Common kernels are provided, but it is also possible to specify custom kernels.\n",
    "\n",
    "Disadvantages of SVM\n",
    "- Works well only for small data sets - samples less than 10^6\n",
    "- If the number of features is much greater than the number of samples, the method is likely to give poor performances.\n",
    "- SVMs do not directly provide probability estimates, these are calculated using an expensive five-fold cross-validation "
   ]
  },
  {
   "cell_type": "markdown",
   "metadata": {},
   "source": [
    "## SVM Goal\n",
    "\n",
    "\"The goal of a support vector machine is to find  the optimal separating hyperplane which maximizes the margin of the training data.\" \n",
    "\n",
    "So lets understand the concept of Margin\n",
    "\n",
    "## Concept of  Margins\n",
    "\n",
    "Given a two dimensional data space and linearly separable set of points, which line should I choose?\n",
    "\n",
    "![](img/margins.png)"
   ]
  },
  {
   "cell_type": "markdown",
   "metadata": {},
   "source": [
    "We would should choose a classification line which would provide maximum distance from the nearest point to the line. This classification line is likely to provide us with best possible generalization line. This concept of choosing the largest distance is called **Fat Margins**.\n",
    "\n",
    "---\n"
   ]
  },
  {
   "cell_type": "markdown",
   "metadata": {},
   "source": [
    "## Building Intution on SVM"
   ]
  },
  {
   "cell_type": "code",
   "execution_count": 1,
   "metadata": {
    "collapsed": true
   },
   "outputs": [],
   "source": [
    "import numpy as np\n",
    "import pandas as pd"
   ]
  },
  {
   "cell_type": "code",
   "execution_count": 2,
   "metadata": {
    "collapsed": true
   },
   "outputs": [],
   "source": [
    "from ipywidgets import interact"
   ]
  },
  {
   "cell_type": "code",
   "execution_count": 10,
   "metadata": {
    "collapsed": false
   },
   "outputs": [
    {
     "data": {
      "text/html": [
       "\n",
       "    <div class=\"bk-root\">\n",
       "        <a href=\"http://bokeh.pydata.org\" target=\"_blank\" class=\"bk-logo bk-logo-small bk-logo-notebook\"></a>\n",
       "        <span id=\"338a1a6a-df84-4546-840b-cd87907dcc5c\">Loading BokehJS ...</span>\n",
       "    </div>"
      ]
     },
     "metadata": {},
     "output_type": "display_data"
    },
    {
     "data": {
      "application/javascript": [
       "\n",
       "(function(global) {\n",
       "  function now() {\n",
       "    return new Date();\n",
       "  }\n",
       "\n",
       "  var force = \"1\";\n",
       "\n",
       "  if (typeof (window._bokeh_onload_callbacks) === \"undefined\" || force !== \"\") {\n",
       "    window._bokeh_onload_callbacks = [];\n",
       "    window._bokeh_is_loading = undefined;\n",
       "  }\n",
       "\n",
       "\n",
       "  \n",
       "  if (typeof (window._bokeh_timeout) === \"undefined\" || force !== \"\") {\n",
       "    window._bokeh_timeout = Date.now() + 5000;\n",
       "    window._bokeh_failed_load = false;\n",
       "  }\n",
       "\n",
       "  var NB_LOAD_WARNING = {'data': {'text/html':\n",
       "     \"<div style='background-color: #fdd'>\\n\"+\n",
       "     \"<p>\\n\"+\n",
       "     \"BokehJS does not appear to have successfully loaded. If loading BokehJS from CDN, this \\n\"+\n",
       "     \"may be due to a slow or bad network connection. Possible fixes:\\n\"+\n",
       "     \"</p>\\n\"+\n",
       "     \"<ul>\\n\"+\n",
       "     \"<li>re-rerun `output_notebook()` to attempt to load from CDN again, or</li>\\n\"+\n",
       "     \"<li>use INLINE resources instead, as so:</li>\\n\"+\n",
       "     \"</ul>\\n\"+\n",
       "     \"<code>\\n\"+\n",
       "     \"from bokeh.resources import INLINE\\n\"+\n",
       "     \"output_notebook(resources=INLINE)\\n\"+\n",
       "     \"</code>\\n\"+\n",
       "     \"</div>\"}};\n",
       "\n",
       "  function display_loaded() {\n",
       "    if (window.Bokeh !== undefined) {\n",
       "      Bokeh.$(\"#338a1a6a-df84-4546-840b-cd87907dcc5c\").text(\"BokehJS successfully loaded.\");\n",
       "    } else if (Date.now() < window._bokeh_timeout) {\n",
       "      setTimeout(display_loaded, 100)\n",
       "    }\n",
       "  }\n",
       "\n",
       "  function run_callbacks() {\n",
       "    window._bokeh_onload_callbacks.forEach(function(callback) { callback() });\n",
       "    delete window._bokeh_onload_callbacks\n",
       "    console.info(\"Bokeh: all callbacks have finished\");\n",
       "  }\n",
       "\n",
       "  function load_libs(js_urls, callback) {\n",
       "    window._bokeh_onload_callbacks.push(callback);\n",
       "    if (window._bokeh_is_loading > 0) {\n",
       "      console.log(\"Bokeh: BokehJS is being loaded, scheduling callback at\", now());\n",
       "      return null;\n",
       "    }\n",
       "    if (js_urls == null || js_urls.length === 0) {\n",
       "      run_callbacks();\n",
       "      return null;\n",
       "    }\n",
       "    console.log(\"Bokeh: BokehJS not loaded, scheduling load and callback at\", now());\n",
       "    window._bokeh_is_loading = js_urls.length;\n",
       "    for (var i = 0; i < js_urls.length; i++) {\n",
       "      var url = js_urls[i];\n",
       "      var s = document.createElement('script');\n",
       "      s.src = url;\n",
       "      s.async = false;\n",
       "      s.onreadystatechange = s.onload = function() {\n",
       "        window._bokeh_is_loading--;\n",
       "        if (window._bokeh_is_loading === 0) {\n",
       "          console.log(\"Bokeh: all BokehJS libraries loaded\");\n",
       "          run_callbacks()\n",
       "        }\n",
       "      };\n",
       "      s.onerror = function() {\n",
       "        console.warn(\"failed to load library \" + url);\n",
       "      };\n",
       "      console.log(\"Bokeh: injecting script tag for BokehJS library: \", url);\n",
       "      document.getElementsByTagName(\"head\")[0].appendChild(s);\n",
       "    }\n",
       "  };var element = document.getElementById(\"338a1a6a-df84-4546-840b-cd87907dcc5c\");\n",
       "  if (element == null) {\n",
       "    console.log(\"Bokeh: ERROR: autoload.js configured with elementid '338a1a6a-df84-4546-840b-cd87907dcc5c' but no matching script tag was found. \")\n",
       "    return false;\n",
       "  }\n",
       "\n",
       "  var js_urls = ['https://cdn.pydata.org/bokeh/release/bokeh-0.12.3.min.js', 'https://cdn.pydata.org/bokeh/release/bokeh-widgets-0.12.3.min.js'];\n",
       "\n",
       "  var inline_js = [\n",
       "    function(Bokeh) {\n",
       "      Bokeh.set_log_level(\"info\");\n",
       "    },\n",
       "    \n",
       "    function(Bokeh) {\n",
       "      \n",
       "      Bokeh.$(\"#338a1a6a-df84-4546-840b-cd87907dcc5c\").text(\"BokehJS is loading...\");\n",
       "    },\n",
       "    function(Bokeh) {\n",
       "      console.log(\"Bokeh: injecting CSS: https://cdn.pydata.org/bokeh/release/bokeh-0.12.3.min.css\");\n",
       "      Bokeh.embed.inject_css(\"https://cdn.pydata.org/bokeh/release/bokeh-0.12.3.min.css\");\n",
       "      console.log(\"Bokeh: injecting CSS: https://cdn.pydata.org/bokeh/release/bokeh-widgets-0.12.3.min.css\");\n",
       "      Bokeh.embed.inject_css(\"https://cdn.pydata.org/bokeh/release/bokeh-widgets-0.12.3.min.css\");\n",
       "    }\n",
       "  ];\n",
       "\n",
       "  function run_inline_js() {\n",
       "    \n",
       "    if ((window.Bokeh !== undefined) || (force === \"1\")) {\n",
       "      for (var i = 0; i < inline_js.length; i++) {\n",
       "        inline_js[i](window.Bokeh);\n",
       "      }if (force === \"1\") {\n",
       "        display_loaded();\n",
       "      }} else if (Date.now() < window._bokeh_timeout) {\n",
       "      setTimeout(run_inline_js, 100);\n",
       "    } else if (!window._bokeh_failed_load) {\n",
       "      console.log(\"Bokeh: BokehJS failed to load within specified timeout.\");\n",
       "      window._bokeh_failed_load = true;\n",
       "    } else if (!force) {\n",
       "      var cell = $(\"#338a1a6a-df84-4546-840b-cd87907dcc5c\").parents('.cell').data().cell;\n",
       "      cell.output_area.append_execute_result(NB_LOAD_WARNING)\n",
       "    }\n",
       "\n",
       "  }\n",
       "\n",
       "  if (window._bokeh_is_loading === 0) {\n",
       "    console.log(\"Bokeh: BokehJS loaded, going straight to plotting\");\n",
       "    run_inline_js();\n",
       "  } else {\n",
       "    load_libs(js_urls, function() {\n",
       "      console.log(\"Bokeh: BokehJS plotting callback run at\", now());\n",
       "      run_inline_js();\n",
       "    });\n",
       "  }\n",
       "}(this));"
      ]
     },
     "metadata": {},
     "output_type": "display_data"
    }
   ],
   "source": [
    "from bokeh.io import push_notebook, output_notebook, show\n",
    "from bokeh.plotting import figure\n",
    "from bokeh.models import ColumnDataSource\n",
    "output_notebook()"
   ]
  },
  {
   "cell_type": "code",
   "execution_count": 4,
   "metadata": {
    "collapsed": true
   },
   "outputs": [],
   "source": [
    "#Setting Defaults for Bokeh Plotting\n",
    "def plot_style(p):\n",
    "    p.plot_width = 400\n",
    "    p.plot_height = 400\n",
    "    p.toolbar.logo = None\n",
    "    p.toolbar_location = None\n",
    "    p.background_fill_color = \"beige\"\n",
    "    p.background_fill_alpha = 0.9\n",
    "    p.xgrid.grid_line_color = None\n",
    "    p.ygrid.grid_line_color = None"
   ]
  },
  {
   "cell_type": "markdown",
   "metadata": {},
   "source": [
    "## Finding Linear Separation\n",
    "\n",
    "Lets see an example of this in a two-dimensional space"
   ]
  },
  {
   "cell_type": "code",
   "execution_count": 22,
   "metadata": {
    "collapsed": true
   },
   "outputs": [],
   "source": [
    "x = [2, 4, 6, 8, 9, 10, 12, 14, 15, 19]\n",
    "y = [1, 6, 8, 10, 9, 15, 19, 12, 10, 18]\n",
    "z = [1, -1, 1, -1, 1, -1, 1, -1, 1, -1]  "
   ]
  },
  {
   "cell_type": "code",
   "execution_count": 24,
   "metadata": {
    "collapsed": false
   },
   "outputs": [],
   "source": [
    "def color_map(i):\n",
    "    if i == 1:\n",
    "        return 'red'\n",
    "    else:\n",
    "        return 'green'"
   ]
  },
  {
   "cell_type": "code",
   "execution_count": 25,
   "metadata": {
    "collapsed": true
   },
   "outputs": [],
   "source": [
    "c = [color_map(i) for i in z]"
   ]
  },
  {
   "cell_type": "code",
   "execution_count": 27,
   "metadata": {
    "collapsed": true
   },
   "outputs": [],
   "source": [
    "df = pd.DataFrame({'x': x, 'y': y, 'z': z, 'c': c})"
   ]
  },
  {
   "cell_type": "code",
   "execution_count": 28,
   "metadata": {
    "collapsed": false
   },
   "outputs": [
    {
     "data": {
      "text/html": [
       "<div>\n",
       "<table border=\"1\" class=\"dataframe\">\n",
       "  <thead>\n",
       "    <tr style=\"text-align: right;\">\n",
       "      <th></th>\n",
       "      <th>c</th>\n",
       "      <th>x</th>\n",
       "      <th>y</th>\n",
       "      <th>z</th>\n",
       "    </tr>\n",
       "  </thead>\n",
       "  <tbody>\n",
       "    <tr>\n",
       "      <th>0</th>\n",
       "      <td>red</td>\n",
       "      <td>2</td>\n",
       "      <td>1</td>\n",
       "      <td>1</td>\n",
       "    </tr>\n",
       "    <tr>\n",
       "      <th>1</th>\n",
       "      <td>green</td>\n",
       "      <td>4</td>\n",
       "      <td>6</td>\n",
       "      <td>-1</td>\n",
       "    </tr>\n",
       "    <tr>\n",
       "      <th>2</th>\n",
       "      <td>red</td>\n",
       "      <td>6</td>\n",
       "      <td>8</td>\n",
       "      <td>1</td>\n",
       "    </tr>\n",
       "    <tr>\n",
       "      <th>3</th>\n",
       "      <td>green</td>\n",
       "      <td>8</td>\n",
       "      <td>10</td>\n",
       "      <td>-1</td>\n",
       "    </tr>\n",
       "    <tr>\n",
       "      <th>4</th>\n",
       "      <td>red</td>\n",
       "      <td>9</td>\n",
       "      <td>9</td>\n",
       "      <td>1</td>\n",
       "    </tr>\n",
       "  </tbody>\n",
       "</table>\n",
       "</div>"
      ],
      "text/plain": [
       "       c  x   y  z\n",
       "0    red  2   1  1\n",
       "1  green  4   6 -1\n",
       "2    red  6   8  1\n",
       "3  green  8  10 -1\n",
       "4    red  9   9  1"
      ]
     },
     "execution_count": 28,
     "metadata": {},
     "output_type": "execute_result"
    }
   ],
   "source": [
    "df.head()"
   ]
  },
  {
   "cell_type": "code",
   "execution_count": 29,
   "metadata": {
    "collapsed": false
   },
   "outputs": [],
   "source": [
    "source = ColumnDataSource(df)"
   ]
  },
  {
   "cell_type": "code",
   "execution_count": 30,
   "metadata": {
    "collapsed": false
   },
   "outputs": [
    {
     "data": {
      "text/html": [
       "\n",
       "\n",
       "    <div class=\"bk-root\">\n",
       "        <div class=\"plotdiv\" id=\"05868f08-96f7-49a5-a1fb-734193fa42a0\"></div>\n",
       "    </div>\n",
       "<script type=\"text/javascript\">\n",
       "  \n",
       "  (function(global) {\n",
       "    function now() {\n",
       "      return new Date();\n",
       "    }\n",
       "  \n",
       "    var force = \"\";\n",
       "  \n",
       "    if (typeof (window._bokeh_onload_callbacks) === \"undefined\" || force !== \"\") {\n",
       "      window._bokeh_onload_callbacks = [];\n",
       "      window._bokeh_is_loading = undefined;\n",
       "    }\n",
       "  \n",
       "  \n",
       "    \n",
       "    if (typeof (window._bokeh_timeout) === \"undefined\" || force !== \"\") {\n",
       "      window._bokeh_timeout = Date.now() + 0;\n",
       "      window._bokeh_failed_load = false;\n",
       "    }\n",
       "  \n",
       "    var NB_LOAD_WARNING = {'data': {'text/html':\n",
       "       \"<div style='background-color: #fdd'>\\n\"+\n",
       "       \"<p>\\n\"+\n",
       "       \"BokehJS does not appear to have successfully loaded. If loading BokehJS from CDN, this \\n\"+\n",
       "       \"may be due to a slow or bad network connection. Possible fixes:\\n\"+\n",
       "       \"</p>\\n\"+\n",
       "       \"<ul>\\n\"+\n",
       "       \"<li>re-rerun `output_notebook()` to attempt to load from CDN again, or</li>\\n\"+\n",
       "       \"<li>use INLINE resources instead, as so:</li>\\n\"+\n",
       "       \"</ul>\\n\"+\n",
       "       \"<code>\\n\"+\n",
       "       \"from bokeh.resources import INLINE\\n\"+\n",
       "       \"output_notebook(resources=INLINE)\\n\"+\n",
       "       \"</code>\\n\"+\n",
       "       \"</div>\"}};\n",
       "  \n",
       "    function display_loaded() {\n",
       "      if (window.Bokeh !== undefined) {\n",
       "        Bokeh.$(\"#05868f08-96f7-49a5-a1fb-734193fa42a0\").text(\"BokehJS successfully loaded.\");\n",
       "      } else if (Date.now() < window._bokeh_timeout) {\n",
       "        setTimeout(display_loaded, 100)\n",
       "      }\n",
       "    }\n",
       "  \n",
       "    function run_callbacks() {\n",
       "      window._bokeh_onload_callbacks.forEach(function(callback) { callback() });\n",
       "      delete window._bokeh_onload_callbacks\n",
       "      console.info(\"Bokeh: all callbacks have finished\");\n",
       "    }\n",
       "  \n",
       "    function load_libs(js_urls, callback) {\n",
       "      window._bokeh_onload_callbacks.push(callback);\n",
       "      if (window._bokeh_is_loading > 0) {\n",
       "        console.log(\"Bokeh: BokehJS is being loaded, scheduling callback at\", now());\n",
       "        return null;\n",
       "      }\n",
       "      if (js_urls == null || js_urls.length === 0) {\n",
       "        run_callbacks();\n",
       "        return null;\n",
       "      }\n",
       "      console.log(\"Bokeh: BokehJS not loaded, scheduling load and callback at\", now());\n",
       "      window._bokeh_is_loading = js_urls.length;\n",
       "      for (var i = 0; i < js_urls.length; i++) {\n",
       "        var url = js_urls[i];\n",
       "        var s = document.createElement('script');\n",
       "        s.src = url;\n",
       "        s.async = false;\n",
       "        s.onreadystatechange = s.onload = function() {\n",
       "          window._bokeh_is_loading--;\n",
       "          if (window._bokeh_is_loading === 0) {\n",
       "            console.log(\"Bokeh: all BokehJS libraries loaded\");\n",
       "            run_callbacks()\n",
       "          }\n",
       "        };\n",
       "        s.onerror = function() {\n",
       "          console.warn(\"failed to load library \" + url);\n",
       "        };\n",
       "        console.log(\"Bokeh: injecting script tag for BokehJS library: \", url);\n",
       "        document.getElementsByTagName(\"head\")[0].appendChild(s);\n",
       "      }\n",
       "    };var element = document.getElementById(\"05868f08-96f7-49a5-a1fb-734193fa42a0\");\n",
       "    if (element == null) {\n",
       "      console.log(\"Bokeh: ERROR: autoload.js configured with elementid '05868f08-96f7-49a5-a1fb-734193fa42a0' but no matching script tag was found. \")\n",
       "      return false;\n",
       "    }\n",
       "  \n",
       "    var js_urls = [];\n",
       "  \n",
       "    var inline_js = [\n",
       "      function(Bokeh) {\n",
       "        Bokeh.$(function() {\n",
       "            var docs_json = {\"ae05b639-8e8e-4411-a9b5-4d15e1ee415c\":{\"roots\":{\"references\":[{\"attributes\":{\"plot\":{\"id\":\"5803c65b-8dd2-4d39-8343-ba533eca02e8\",\"subtype\":\"Figure\",\"type\":\"Plot\"}},\"id\":\"0416bea6-571e-4aa2-ad94-67bbc6a33bc1\",\"type\":\"PanTool\"},{\"attributes\":{\"bottom_units\":\"screen\",\"fill_alpha\":{\"value\":0.5},\"fill_color\":{\"value\":\"lightgrey\"},\"left_units\":\"screen\",\"level\":\"overlay\",\"line_alpha\":{\"value\":1.0},\"line_color\":{\"value\":\"black\"},\"line_dash\":[4,4],\"line_width\":{\"value\":2},\"plot\":null,\"render_mode\":\"css\",\"right_units\":\"screen\",\"top_units\":\"screen\"},\"id\":\"2f6a708e-362f-4ae5-ac82-e0661bd12051\",\"type\":\"BoxAnnotation\"},{\"attributes\":{\"plot\":{\"id\":\"5803c65b-8dd2-4d39-8343-ba533eca02e8\",\"subtype\":\"Figure\",\"type\":\"Plot\"}},\"id\":\"f07b4b3f-4455-4ac1-b90a-972f087cb255\",\"type\":\"WheelZoomTool\"},{\"attributes\":{\"background_fill_alpha\":{\"value\":0.9},\"background_fill_color\":{\"value\":\"beige\"},\"below\":[{\"id\":\"39004053-8a42-40a1-93db-ecb83dd84317\",\"type\":\"LinearAxis\"}],\"left\":[{\"id\":\"ae175678-4912-43eb-b8e6-2de492789cdc\",\"type\":\"LinearAxis\"}],\"plot_height\":400,\"plot_width\":400,\"renderers\":[{\"id\":\"39004053-8a42-40a1-93db-ecb83dd84317\",\"type\":\"LinearAxis\"},{\"id\":\"244fb36a-b399-45de-8220-e9049b8cae37\",\"type\":\"Grid\"},{\"id\":\"ae175678-4912-43eb-b8e6-2de492789cdc\",\"type\":\"LinearAxis\"},{\"id\":\"a096abee-0f37-49d2-a216-5629f80ebc03\",\"type\":\"Grid\"},{\"id\":\"2f6a708e-362f-4ae5-ac82-e0661bd12051\",\"type\":\"BoxAnnotation\"},{\"id\":\"7a9e0976-00ad-4363-ace2-0360f96ab2aa\",\"type\":\"GlyphRenderer\"}],\"title\":{\"id\":\"9fa4a853-3145-4cc0-afb6-62eb9040e7cd\",\"type\":\"Title\"},\"tool_events\":{\"id\":\"4a840589-ecb5-4c07-8c50-6f46a4743c41\",\"type\":\"ToolEvents\"},\"toolbar\":{\"id\":\"3b8f8026-65e5-4ac4-a8b1-3de4d732e59e\",\"type\":\"Toolbar\"},\"toolbar_location\":null,\"x_range\":{\"id\":\"1a8f7a84-765b-4047-a9a4-850574a42b76\",\"type\":\"Range1d\"},\"y_range\":{\"id\":\"0d8f3818-bc7f-4f54-9709-6f0dbd49d693\",\"type\":\"Range1d\"}},\"id\":\"5803c65b-8dd2-4d39-8343-ba533eca02e8\",\"subtype\":\"Figure\",\"type\":\"Plot\"},{\"attributes\":{\"dimension\":1,\"grid_line_color\":{\"value\":null},\"plot\":{\"id\":\"5803c65b-8dd2-4d39-8343-ba533eca02e8\",\"subtype\":\"Figure\",\"type\":\"Plot\"},\"ticker\":{\"id\":\"e628f7fe-d5a4-4fa9-a986-6e3216c2a53a\",\"type\":\"BasicTicker\"}},\"id\":\"a096abee-0f37-49d2-a216-5629f80ebc03\",\"type\":\"Grid\"},{\"attributes\":{\"active_drag\":\"auto\",\"active_scroll\":\"auto\",\"active_tap\":\"auto\",\"logo\":null,\"tools\":[{\"id\":\"0416bea6-571e-4aa2-ad94-67bbc6a33bc1\",\"type\":\"PanTool\"},{\"id\":\"f07b4b3f-4455-4ac1-b90a-972f087cb255\",\"type\":\"WheelZoomTool\"},{\"id\":\"5197e978-0ac0-4e65-b42c-cf218c04706f\",\"type\":\"BoxZoomTool\"},{\"id\":\"6472859a-fb9c-4b73-9134-ca272f820811\",\"type\":\"SaveTool\"},{\"id\":\"5b0a0bc5-d0ce-4fa5-ba0b-8ee317592f00\",\"type\":\"ResetTool\"},{\"id\":\"2fd17afb-5cf2-4705-b088-4a2b8ad2350e\",\"type\":\"HelpTool\"}]},\"id\":\"3b8f8026-65e5-4ac4-a8b1-3de4d732e59e\",\"type\":\"Toolbar\"},{\"attributes\":{\"fill_alpha\":{\"value\":0.1},\"fill_color\":{\"value\":\"#1f77b4\"},\"line_alpha\":{\"value\":0.1},\"line_color\":{\"value\":\"#1f77b4\"},\"size\":{\"units\":\"screen\",\"value\":15},\"x\":{\"field\":\"x\"},\"y\":{\"field\":\"y\"}},\"id\":\"b4e77c9c-fc7e-4c5c-875a-586727386168\",\"type\":\"Circle\"},{\"attributes\":{\"plot\":null,\"text\":null},\"id\":\"9fa4a853-3145-4cc0-afb6-62eb9040e7cd\",\"type\":\"Title\"},{\"attributes\":{\"plot\":{\"id\":\"5803c65b-8dd2-4d39-8343-ba533eca02e8\",\"subtype\":\"Figure\",\"type\":\"Plot\"}},\"id\":\"5b0a0bc5-d0ce-4fa5-ba0b-8ee317592f00\",\"type\":\"ResetTool\"},{\"attributes\":{\"plot\":{\"id\":\"5803c65b-8dd2-4d39-8343-ba533eca02e8\",\"subtype\":\"Figure\",\"type\":\"Plot\"}},\"id\":\"2fd17afb-5cf2-4705-b088-4a2b8ad2350e\",\"type\":\"HelpTool\"},{\"attributes\":{},\"id\":\"e628f7fe-d5a4-4fa9-a986-6e3216c2a53a\",\"type\":\"BasicTicker\"},{\"attributes\":{},\"id\":\"4d862087-55e8-4bf9-8f44-aca6f69c4f78\",\"type\":\"BasicTickFormatter\"},{\"attributes\":{},\"id\":\"4a840589-ecb5-4c07-8c50-6f46a4743c41\",\"type\":\"ToolEvents\"},{\"attributes\":{\"callback\":null,\"end\":20},\"id\":\"0d8f3818-bc7f-4f54-9709-6f0dbd49d693\",\"type\":\"Range1d\"},{\"attributes\":{\"overlay\":{\"id\":\"2f6a708e-362f-4ae5-ac82-e0661bd12051\",\"type\":\"BoxAnnotation\"},\"plot\":{\"id\":\"5803c65b-8dd2-4d39-8343-ba533eca02e8\",\"subtype\":\"Figure\",\"type\":\"Plot\"}},\"id\":\"5197e978-0ac0-4e65-b42c-cf218c04706f\",\"type\":\"BoxZoomTool\"},{\"attributes\":{},\"id\":\"859f2c09-0e1b-4c97-ae04-777ba64636cb\",\"type\":\"BasicTicker\"},{\"attributes\":{\"fill_color\":{\"field\":\"fill_color\"},\"line_color\":{\"value\":\"#1f77b4\"},\"size\":{\"units\":\"screen\",\"value\":15},\"x\":{\"field\":\"x\"},\"y\":{\"field\":\"y\"}},\"id\":\"72106b97-f6e2-4df2-afec-d4a0e0ae6c9f\",\"type\":\"Circle\"},{\"attributes\":{\"data_source\":{\"id\":\"9058e747-b4a6-4690-a7c7-25fdddc36bb6\",\"type\":\"ColumnDataSource\"},\"glyph\":{\"id\":\"72106b97-f6e2-4df2-afec-d4a0e0ae6c9f\",\"type\":\"Circle\"},\"hover_glyph\":null,\"nonselection_glyph\":{\"id\":\"b4e77c9c-fc7e-4c5c-875a-586727386168\",\"type\":\"Circle\"},\"selection_glyph\":null},\"id\":\"7a9e0976-00ad-4363-ace2-0360f96ab2aa\",\"type\":\"GlyphRenderer\"},{\"attributes\":{\"callback\":null,\"end\":20},\"id\":\"1a8f7a84-765b-4047-a9a4-850574a42b76\",\"type\":\"Range1d\"},{\"attributes\":{\"formatter\":{\"id\":\"4d862087-55e8-4bf9-8f44-aca6f69c4f78\",\"type\":\"BasicTickFormatter\"},\"plot\":{\"id\":\"5803c65b-8dd2-4d39-8343-ba533eca02e8\",\"subtype\":\"Figure\",\"type\":\"Plot\"},\"ticker\":{\"id\":\"859f2c09-0e1b-4c97-ae04-777ba64636cb\",\"type\":\"BasicTicker\"}},\"id\":\"39004053-8a42-40a1-93db-ecb83dd84317\",\"type\":\"LinearAxis\"},{\"attributes\":{\"callback\":null,\"column_names\":[\"y\",\"x\",\"fill_color\"],\"data\":{\"fill_color\":[\"red\",\"green\",\"red\",\"green\",\"red\",\"green\",\"red\",\"green\",\"red\",\"green\"],\"x\":[2,4,6,8,9,10,12,14,15,19],\"y\":[1,6,8,10,9,15,19,12,10,18]}},\"id\":\"9058e747-b4a6-4690-a7c7-25fdddc36bb6\",\"type\":\"ColumnDataSource\"},{\"attributes\":{},\"id\":\"4c26ad09-7560-448a-86a7-db9d663a177a\",\"type\":\"BasicTickFormatter\"},{\"attributes\":{\"plot\":{\"id\":\"5803c65b-8dd2-4d39-8343-ba533eca02e8\",\"subtype\":\"Figure\",\"type\":\"Plot\"}},\"id\":\"6472859a-fb9c-4b73-9134-ca272f820811\",\"type\":\"SaveTool\"},{\"attributes\":{\"formatter\":{\"id\":\"4c26ad09-7560-448a-86a7-db9d663a177a\",\"type\":\"BasicTickFormatter\"},\"plot\":{\"id\":\"5803c65b-8dd2-4d39-8343-ba533eca02e8\",\"subtype\":\"Figure\",\"type\":\"Plot\"},\"ticker\":{\"id\":\"e628f7fe-d5a4-4fa9-a986-6e3216c2a53a\",\"type\":\"BasicTicker\"}},\"id\":\"ae175678-4912-43eb-b8e6-2de492789cdc\",\"type\":\"LinearAxis\"},{\"attributes\":{\"grid_line_color\":{\"value\":null},\"plot\":{\"id\":\"5803c65b-8dd2-4d39-8343-ba533eca02e8\",\"subtype\":\"Figure\",\"type\":\"Plot\"},\"ticker\":{\"id\":\"859f2c09-0e1b-4c97-ae04-777ba64636cb\",\"type\":\"BasicTicker\"}},\"id\":\"244fb36a-b399-45de-8220-e9049b8cae37\",\"type\":\"Grid\"}],\"root_ids\":[\"5803c65b-8dd2-4d39-8343-ba533eca02e8\"]},\"title\":\"Bokeh Application\",\"version\":\"0.12.3\"}};\n",
       "            var render_items = [{\"docid\":\"ae05b639-8e8e-4411-a9b5-4d15e1ee415c\",\"elementid\":\"05868f08-96f7-49a5-a1fb-734193fa42a0\",\"modelid\":\"5803c65b-8dd2-4d39-8343-ba533eca02e8\"}];\n",
       "            \n",
       "            Bokeh.embed.embed_items(docs_json, render_items);\n",
       "        });\n",
       "      },\n",
       "      function(Bokeh) {\n",
       "      }\n",
       "    ];\n",
       "  \n",
       "    function run_inline_js() {\n",
       "      \n",
       "      if ((window.Bokeh !== undefined) || (force === \"1\")) {\n",
       "        for (var i = 0; i < inline_js.length; i++) {\n",
       "          inline_js[i](window.Bokeh);\n",
       "        }if (force === \"1\") {\n",
       "          display_loaded();\n",
       "        }} else if (Date.now() < window._bokeh_timeout) {\n",
       "        setTimeout(run_inline_js, 100);\n",
       "      } else if (!window._bokeh_failed_load) {\n",
       "        console.log(\"Bokeh: BokehJS failed to load within specified timeout.\");\n",
       "        window._bokeh_failed_load = true;\n",
       "      } else if (!force) {\n",
       "        var cell = $(\"#05868f08-96f7-49a5-a1fb-734193fa42a0\").parents('.cell').data().cell;\n",
       "        cell.output_area.append_execute_result(NB_LOAD_WARNING)\n",
       "      }\n",
       "  \n",
       "    }\n",
       "  \n",
       "    if (window._bokeh_is_loading === 0) {\n",
       "      console.log(\"Bokeh: BokehJS loaded, going straight to plotting\");\n",
       "      run_inline_js();\n",
       "    } else {\n",
       "      load_libs(js_urls, function() {\n",
       "        console.log(\"Bokeh: BokehJS plotting callback run at\", now());\n",
       "        run_inline_js();\n",
       "      });\n",
       "    }\n",
       "  }(this));\n",
       "</script>"
      ]
     },
     "metadata": {},
     "output_type": "display_data"
    }
   ],
   "source": [
    "p = figure(x_range=(0,20), y_range=(0,20))\n",
    "p.circle(x, y, fill_color=c, size = 15)\n",
    "plot_style(p)\n",
    "show(p)"
   ]
  },
  {
   "cell_type": "code",
   "execution_count": 31,
   "metadata": {
    "collapsed": false
   },
   "outputs": [
    {
     "data": {
      "text/html": [
       "\n",
       "\n",
       "    <div class=\"bk-root\">\n",
       "        <div class=\"plotdiv\" id=\"21b877e2-9cf5-46a5-b3dd-98750605ce20\"></div>\n",
       "    </div>\n",
       "<script type=\"text/javascript\">\n",
       "  \n",
       "  (function(global) {\n",
       "    function now() {\n",
       "      return new Date();\n",
       "    }\n",
       "  \n",
       "    var force = \"\";\n",
       "  \n",
       "    if (typeof (window._bokeh_onload_callbacks) === \"undefined\" || force !== \"\") {\n",
       "      window._bokeh_onload_callbacks = [];\n",
       "      window._bokeh_is_loading = undefined;\n",
       "    }\n",
       "  \n",
       "  \n",
       "    \n",
       "    if (typeof (window._bokeh_timeout) === \"undefined\" || force !== \"\") {\n",
       "      window._bokeh_timeout = Date.now() + 0;\n",
       "      window._bokeh_failed_load = false;\n",
       "    }\n",
       "  \n",
       "    var NB_LOAD_WARNING = {'data': {'text/html':\n",
       "       \"<div style='background-color: #fdd'>\\n\"+\n",
       "       \"<p>\\n\"+\n",
       "       \"BokehJS does not appear to have successfully loaded. If loading BokehJS from CDN, this \\n\"+\n",
       "       \"may be due to a slow or bad network connection. Possible fixes:\\n\"+\n",
       "       \"</p>\\n\"+\n",
       "       \"<ul>\\n\"+\n",
       "       \"<li>re-rerun `output_notebook()` to attempt to load from CDN again, or</li>\\n\"+\n",
       "       \"<li>use INLINE resources instead, as so:</li>\\n\"+\n",
       "       \"</ul>\\n\"+\n",
       "       \"<code>\\n\"+\n",
       "       \"from bokeh.resources import INLINE\\n\"+\n",
       "       \"output_notebook(resources=INLINE)\\n\"+\n",
       "       \"</code>\\n\"+\n",
       "       \"</div>\"}};\n",
       "  \n",
       "    function display_loaded() {\n",
       "      if (window.Bokeh !== undefined) {\n",
       "        Bokeh.$(\"#21b877e2-9cf5-46a5-b3dd-98750605ce20\").text(\"BokehJS successfully loaded.\");\n",
       "      } else if (Date.now() < window._bokeh_timeout) {\n",
       "        setTimeout(display_loaded, 100)\n",
       "      }\n",
       "    }\n",
       "  \n",
       "    function run_callbacks() {\n",
       "      window._bokeh_onload_callbacks.forEach(function(callback) { callback() });\n",
       "      delete window._bokeh_onload_callbacks\n",
       "      console.info(\"Bokeh: all callbacks have finished\");\n",
       "    }\n",
       "  \n",
       "    function load_libs(js_urls, callback) {\n",
       "      window._bokeh_onload_callbacks.push(callback);\n",
       "      if (window._bokeh_is_loading > 0) {\n",
       "        console.log(\"Bokeh: BokehJS is being loaded, scheduling callback at\", now());\n",
       "        return null;\n",
       "      }\n",
       "      if (js_urls == null || js_urls.length === 0) {\n",
       "        run_callbacks();\n",
       "        return null;\n",
       "      }\n",
       "      console.log(\"Bokeh: BokehJS not loaded, scheduling load and callback at\", now());\n",
       "      window._bokeh_is_loading = js_urls.length;\n",
       "      for (var i = 0; i < js_urls.length; i++) {\n",
       "        var url = js_urls[i];\n",
       "        var s = document.createElement('script');\n",
       "        s.src = url;\n",
       "        s.async = false;\n",
       "        s.onreadystatechange = s.onload = function() {\n",
       "          window._bokeh_is_loading--;\n",
       "          if (window._bokeh_is_loading === 0) {\n",
       "            console.log(\"Bokeh: all BokehJS libraries loaded\");\n",
       "            run_callbacks()\n",
       "          }\n",
       "        };\n",
       "        s.onerror = function() {\n",
       "          console.warn(\"failed to load library \" + url);\n",
       "        };\n",
       "        console.log(\"Bokeh: injecting script tag for BokehJS library: \", url);\n",
       "        document.getElementsByTagName(\"head\")[0].appendChild(s);\n",
       "      }\n",
       "    };var element = document.getElementById(\"21b877e2-9cf5-46a5-b3dd-98750605ce20\");\n",
       "    if (element == null) {\n",
       "      console.log(\"Bokeh: ERROR: autoload.js configured with elementid '21b877e2-9cf5-46a5-b3dd-98750605ce20' but no matching script tag was found. \")\n",
       "      return false;\n",
       "    }\n",
       "  \n",
       "    var js_urls = [];\n",
       "  \n",
       "    var inline_js = [\n",
       "      function(Bokeh) {\n",
       "        Bokeh.$(function() {\n",
       "            var docs_json = {\"dace668e-876c-414d-a7b1-a5371f841817\":{\"roots\":{\"references\":[{\"attributes\":{\"background_fill_alpha\":{\"value\":0.9},\"background_fill_color\":{\"value\":\"beige\"},\"below\":[{\"id\":\"739841a1-3f16-4538-874a-9f28712b7b1c\",\"type\":\"LinearAxis\"}],\"left\":[{\"id\":\"f8c10d47-75ba-416e-97c8-b7b07f6628a3\",\"type\":\"LinearAxis\"}],\"plot_height\":400,\"plot_width\":400,\"renderers\":[{\"id\":\"739841a1-3f16-4538-874a-9f28712b7b1c\",\"type\":\"LinearAxis\"},{\"id\":\"908fade8-2f8d-4da0-820e-1db965ffbef3\",\"type\":\"Grid\"},{\"id\":\"f8c10d47-75ba-416e-97c8-b7b07f6628a3\",\"type\":\"LinearAxis\"},{\"id\":\"63551ee0-2fdb-4afc-be64-81760a35d9a3\",\"type\":\"Grid\"},{\"id\":\"d5086245-2bd0-47d5-90fa-d74427d09804\",\"type\":\"BoxAnnotation\"},{\"id\":\"b098217b-3e15-4a1f-b1b0-f1dc41069cb3\",\"type\":\"GlyphRenderer\"}],\"title\":{\"id\":\"0aee1575-38c1-41af-929a-83720bf4c8d6\",\"type\":\"Title\"},\"tool_events\":{\"id\":\"26b16c37-5d1f-4cc1-83ad-bd60fe54b144\",\"type\":\"ToolEvents\"},\"toolbar\":{\"id\":\"235837b7-78b3-4605-b48b-cd3e477c4d0c\",\"type\":\"Toolbar\"},\"toolbar_location\":null,\"x_range\":{\"id\":\"1a5e1820-e2f3-40a0-97b4-73d1ed5e92f3\",\"type\":\"Range1d\"},\"y_range\":{\"id\":\"4b2ed7f2-1355-44d9-8207-246095034c0a\",\"type\":\"Range1d\"}},\"id\":\"c679435a-4d5f-4d37-a786-87e10f7eb27b\",\"subtype\":\"Figure\",\"type\":\"Plot\"},{\"attributes\":{\"plot\":{\"id\":\"c679435a-4d5f-4d37-a786-87e10f7eb27b\",\"subtype\":\"Figure\",\"type\":\"Plot\"}},\"id\":\"cf10cb2a-68a0-4422-acf9-889d023ee45a\",\"type\":\"ResetTool\"},{\"attributes\":{\"formatter\":{\"id\":\"4df25fcd-52a0-4c3c-9e13-118c4904420f\",\"type\":\"BasicTickFormatter\"},\"plot\":{\"id\":\"c679435a-4d5f-4d37-a786-87e10f7eb27b\",\"subtype\":\"Figure\",\"type\":\"Plot\"},\"ticker\":{\"id\":\"f0901706-64c2-4805-87c2-9f7c279f4bee\",\"type\":\"BasicTicker\"}},\"id\":\"739841a1-3f16-4538-874a-9f28712b7b1c\",\"type\":\"LinearAxis\"},{\"attributes\":{\"formatter\":{\"id\":\"adf28da6-738d-4a34-ab34-ea70f2cbecdc\",\"type\":\"BasicTickFormatter\"},\"plot\":{\"id\":\"c679435a-4d5f-4d37-a786-87e10f7eb27b\",\"subtype\":\"Figure\",\"type\":\"Plot\"},\"ticker\":{\"id\":\"10fb6339-d43d-4638-8e6e-efe28348d505\",\"type\":\"BasicTicker\"}},\"id\":\"f8c10d47-75ba-416e-97c8-b7b07f6628a3\",\"type\":\"LinearAxis\"},{\"attributes\":{\"plot\":{\"id\":\"c679435a-4d5f-4d37-a786-87e10f7eb27b\",\"subtype\":\"Figure\",\"type\":\"Plot\"}},\"id\":\"25e339ce-f7e7-44a5-8e84-d885dd45e60c\",\"type\":\"PanTool\"},{\"attributes\":{\"grid_line_color\":{\"value\":null},\"plot\":{\"id\":\"c679435a-4d5f-4d37-a786-87e10f7eb27b\",\"subtype\":\"Figure\",\"type\":\"Plot\"},\"ticker\":{\"id\":\"f0901706-64c2-4805-87c2-9f7c279f4bee\",\"type\":\"BasicTicker\"}},\"id\":\"908fade8-2f8d-4da0-820e-1db965ffbef3\",\"type\":\"Grid\"},{\"attributes\":{\"fill_color\":{\"field\":\"c\"},\"line_color\":{\"value\":\"#1f77b4\"},\"size\":{\"units\":\"screen\",\"value\":15},\"x\":{\"field\":\"x\"},\"y\":{\"field\":\"y\"}},\"id\":\"6b70a460-986f-4958-bf2c-9e2c964100bc\",\"type\":\"Circle\"},{\"attributes\":{\"plot\":{\"id\":\"c679435a-4d5f-4d37-a786-87e10f7eb27b\",\"subtype\":\"Figure\",\"type\":\"Plot\"}},\"id\":\"4538f02c-fba0-4cca-ade4-91a65d460ed3\",\"type\":\"SaveTool\"},{\"attributes\":{\"bottom_units\":\"screen\",\"fill_alpha\":{\"value\":0.5},\"fill_color\":{\"value\":\"lightgrey\"},\"left_units\":\"screen\",\"level\":\"overlay\",\"line_alpha\":{\"value\":1.0},\"line_color\":{\"value\":\"black\"},\"line_dash\":[4,4],\"line_width\":{\"value\":2},\"plot\":null,\"render_mode\":\"css\",\"right_units\":\"screen\",\"top_units\":\"screen\"},\"id\":\"d5086245-2bd0-47d5-90fa-d74427d09804\",\"type\":\"BoxAnnotation\"},{\"attributes\":{},\"id\":\"adf28da6-738d-4a34-ab34-ea70f2cbecdc\",\"type\":\"BasicTickFormatter\"},{\"attributes\":{},\"id\":\"26b16c37-5d1f-4cc1-83ad-bd60fe54b144\",\"type\":\"ToolEvents\"},{\"attributes\":{\"dimension\":1,\"grid_line_color\":{\"value\":null},\"plot\":{\"id\":\"c679435a-4d5f-4d37-a786-87e10f7eb27b\",\"subtype\":\"Figure\",\"type\":\"Plot\"},\"ticker\":{\"id\":\"10fb6339-d43d-4638-8e6e-efe28348d505\",\"type\":\"BasicTicker\"}},\"id\":\"63551ee0-2fdb-4afc-be64-81760a35d9a3\",\"type\":\"Grid\"},{\"attributes\":{},\"id\":\"4df25fcd-52a0-4c3c-9e13-118c4904420f\",\"type\":\"BasicTickFormatter\"},{\"attributes\":{},\"id\":\"10fb6339-d43d-4638-8e6e-efe28348d505\",\"type\":\"BasicTicker\"},{\"attributes\":{\"overlay\":{\"id\":\"d5086245-2bd0-47d5-90fa-d74427d09804\",\"type\":\"BoxAnnotation\"},\"plot\":{\"id\":\"c679435a-4d5f-4d37-a786-87e10f7eb27b\",\"subtype\":\"Figure\",\"type\":\"Plot\"}},\"id\":\"e4ca54e3-ef53-44cf-835c-de1e50446d70\",\"type\":\"BoxZoomTool\"},{\"attributes\":{\"data_source\":{\"id\":\"3bb35446-dfc9-4239-b418-73cc006d2198\",\"type\":\"ColumnDataSource\"},\"glyph\":{\"id\":\"6b70a460-986f-4958-bf2c-9e2c964100bc\",\"type\":\"Circle\"},\"hover_glyph\":null,\"nonselection_glyph\":{\"id\":\"d9baea46-0da7-4f86-bcd2-d44ec716a527\",\"type\":\"Circle\"},\"selection_glyph\":null},\"id\":\"b098217b-3e15-4a1f-b1b0-f1dc41069cb3\",\"type\":\"GlyphRenderer\"},{\"attributes\":{\"callback\":null,\"end\":20},\"id\":\"1a5e1820-e2f3-40a0-97b4-73d1ed5e92f3\",\"type\":\"Range1d\"},{\"attributes\":{\"callback\":null,\"column_names\":[\"c\",\"y\",\"index\",\"z\",\"x\"],\"data\":{\"c\":[\"red\",\"green\",\"red\",\"green\",\"red\",\"green\",\"red\",\"green\",\"red\",\"green\"],\"index\":[0,1,2,3,4,5,6,7,8,9],\"x\":[2,4,6,8,9,10,12,14,15,19],\"y\":[1,6,8,10,9,15,19,12,10,18],\"z\":[1,-1,1,-1,1,-1,1,-1,1,-1]}},\"id\":\"3bb35446-dfc9-4239-b418-73cc006d2198\",\"type\":\"ColumnDataSource\"},{\"attributes\":{\"plot\":{\"id\":\"c679435a-4d5f-4d37-a786-87e10f7eb27b\",\"subtype\":\"Figure\",\"type\":\"Plot\"}},\"id\":\"47b3f82b-d32c-4c2c-84b8-c3288cf9f398\",\"type\":\"HelpTool\"},{\"attributes\":{\"plot\":null,\"text\":null},\"id\":\"0aee1575-38c1-41af-929a-83720bf4c8d6\",\"type\":\"Title\"},{\"attributes\":{\"fill_alpha\":{\"value\":0.1},\"fill_color\":{\"value\":\"#1f77b4\"},\"line_alpha\":{\"value\":0.1},\"line_color\":{\"value\":\"#1f77b4\"},\"size\":{\"units\":\"screen\",\"value\":15},\"x\":{\"field\":\"x\"},\"y\":{\"field\":\"y\"}},\"id\":\"d9baea46-0da7-4f86-bcd2-d44ec716a527\",\"type\":\"Circle\"},{\"attributes\":{\"callback\":null,\"end\":20},\"id\":\"4b2ed7f2-1355-44d9-8207-246095034c0a\",\"type\":\"Range1d\"},{\"attributes\":{},\"id\":\"f0901706-64c2-4805-87c2-9f7c279f4bee\",\"type\":\"BasicTicker\"},{\"attributes\":{\"active_drag\":\"auto\",\"active_scroll\":\"auto\",\"active_tap\":\"auto\",\"logo\":null,\"tools\":[{\"id\":\"25e339ce-f7e7-44a5-8e84-d885dd45e60c\",\"type\":\"PanTool\"},{\"id\":\"30bae426-d6c5-42d9-a63c-39b4aaa9b24b\",\"type\":\"WheelZoomTool\"},{\"id\":\"e4ca54e3-ef53-44cf-835c-de1e50446d70\",\"type\":\"BoxZoomTool\"},{\"id\":\"4538f02c-fba0-4cca-ade4-91a65d460ed3\",\"type\":\"SaveTool\"},{\"id\":\"cf10cb2a-68a0-4422-acf9-889d023ee45a\",\"type\":\"ResetTool\"},{\"id\":\"47b3f82b-d32c-4c2c-84b8-c3288cf9f398\",\"type\":\"HelpTool\"}]},\"id\":\"235837b7-78b3-4605-b48b-cd3e477c4d0c\",\"type\":\"Toolbar\"},{\"attributes\":{\"plot\":{\"id\":\"c679435a-4d5f-4d37-a786-87e10f7eb27b\",\"subtype\":\"Figure\",\"type\":\"Plot\"}},\"id\":\"30bae426-d6c5-42d9-a63c-39b4aaa9b24b\",\"type\":\"WheelZoomTool\"}],\"root_ids\":[\"c679435a-4d5f-4d37-a786-87e10f7eb27b\"]},\"title\":\"Bokeh Application\",\"version\":\"0.12.3\"}};\n",
       "            var render_items = [{\"docid\":\"dace668e-876c-414d-a7b1-a5371f841817\",\"elementid\":\"21b877e2-9cf5-46a5-b3dd-98750605ce20\",\"modelid\":\"c679435a-4d5f-4d37-a786-87e10f7eb27b\"}];\n",
       "            \n",
       "            Bokeh.embed.embed_items(docs_json, render_items);\n",
       "        });\n",
       "      },\n",
       "      function(Bokeh) {\n",
       "      }\n",
       "    ];\n",
       "  \n",
       "    function run_inline_js() {\n",
       "      \n",
       "      if ((window.Bokeh !== undefined) || (force === \"1\")) {\n",
       "        for (var i = 0; i < inline_js.length; i++) {\n",
       "          inline_js[i](window.Bokeh);\n",
       "        }if (force === \"1\") {\n",
       "          display_loaded();\n",
       "        }} else if (Date.now() < window._bokeh_timeout) {\n",
       "        setTimeout(run_inline_js, 100);\n",
       "      } else if (!window._bokeh_failed_load) {\n",
       "        console.log(\"Bokeh: BokehJS failed to load within specified timeout.\");\n",
       "        window._bokeh_failed_load = true;\n",
       "      } else if (!force) {\n",
       "        var cell = $(\"#21b877e2-9cf5-46a5-b3dd-98750605ce20\").parents('.cell').data().cell;\n",
       "        cell.output_area.append_execute_result(NB_LOAD_WARNING)\n",
       "      }\n",
       "  \n",
       "    }\n",
       "  \n",
       "    if (window._bokeh_is_loading === 0) {\n",
       "      console.log(\"Bokeh: BokehJS loaded, going straight to plotting\");\n",
       "      run_inline_js();\n",
       "    } else {\n",
       "      load_libs(js_urls, function() {\n",
       "        console.log(\"Bokeh: BokehJS plotting callback run at\", now());\n",
       "        run_inline_js();\n",
       "      });\n",
       "    }\n",
       "  }(this));\n",
       "</script>"
      ]
     },
     "metadata": {},
     "output_type": "display_data"
    }
   ],
   "source": [
    "p = figure(x_range=(0,20), y_range=(0,20))\n",
    "p.circle('x', 'y', source= source, fill_color='c', size = 15)\n",
    "plot_style(p)\n",
    "show(p)"
   ]
  },
  {
   "cell_type": "code",
   "execution_count": 35,
   "metadata": {
    "collapsed": true
   },
   "outputs": [],
   "source": [
    "import matplotlib.pyplot as plt\n",
    "%matplotlib inline"
   ]
  },
  {
   "cell_type": "code",
   "execution_count": 40,
   "metadata": {
    "collapsed": false
   },
   "outputs": [],
   "source": [
    "fig, ax = plt.subplots()\n",
    "ax.plot([3,1,2,4,0,5,3,2,0,2,4])\n",
    "\n",
    "vline = ax.axvline(1)\n",
    "hline = ax.axhline(0.5)\n",
    "\n",
    "def set_cursor(x, y):\n",
    "    vline.set_xdata((x, x))\n",
    "    hline.set_ydata((y, y))\n",
    "\n",
    "interact(set_cursor, x=(1, 9, 1), y=(0, 5, 1))"
   ]
  },
  {
   "cell_type": "code",
   "execution_count": null,
   "metadata": {
    "collapsed": true
   },
   "outputs": [],
   "source": []
  },
  {
   "cell_type": "code",
   "execution_count": null,
   "metadata": {
    "collapsed": true
   },
   "outputs": [],
   "source": []
  },
  {
   "cell_type": "code",
   "execution_count": null,
   "metadata": {
    "collapsed": true
   },
   "outputs": [],
   "source": []
  },
  {
   "cell_type": "code",
   "execution_count": 8,
   "metadata": {
    "collapsed": false
   },
   "outputs": [
    {
     "name": "stdout",
     "output_type": "stream",
     "text": [
      "Points on flag:\n",
      "color\n",
      "green    10291\n",
      "red       4709\n",
      "dtype: int64\n",
      "Training Set Size: 10000\n",
      "Test Set Size: 5000\n"
     ]
    },
    {
     "name": "stderr",
     "output_type": "stream",
     "text": [
      "/Users/amitkaps/miniconda3/lib/python3.5/site-packages/ipykernel/__main__.py:64: SettingWithCopyWarning: \n",
      "A value is trying to be set on a copy of a slice from a DataFrame.\n",
      "Try using .loc[row_indexer,col_indexer] = value instead\n",
      "\n",
      "See the caveats in the documentation: http://pandas.pydata.org/pandas-docs/stable/indexing.html#indexing-view-versus-copy\n",
      "/Users/amitkaps/miniconda3/lib/python3.5/site-packages/ipykernel/__main__.py:65: SettingWithCopyWarning: \n",
      "A value is trying to be set on a copy of a slice from a DataFrame.\n",
      "Try using .loc[row_indexer,col_indexer] = value instead\n",
      "\n",
      "See the caveats in the documentation: http://pandas.pydata.org/pandas-docs/stable/indexing.html#indexing-view-versus-copy\n"
     ]
    },
    {
     "name": "stdout",
     "output_type": "stream",
     "text": [
      "Confusion Matrix for Logistic:\n",
      "[[   0 4408]\n",
      " [   0  592]]\n",
      "Confusion Matrix for SVM:\n",
      "[[4320   88]\n",
      " [  29  563]]\n",
      "Confusion Matrix for Decision Tree:\n",
      "[[1950 2458]\n",
      " [   0  592]]\n"
     ]
    },
    {
     "data": {
      "image/png": "[encoded data removed]",
      "text/plain": [
       "<matplotlib.figure.Figure at 0x10b7cf9e8>"
      ]
     },
     "metadata": {},
     "output_type": "display_data"
    }
   ],
   "source": [
    "import numpy as np\n",
    "import pylab as pl\n",
    "import pandas as pd\n",
    "\n",
    "from sklearn import svm\n",
    "from sklearn import linear_model\n",
    "from sklearn import tree\n",
    "\n",
    "from sklearn.metrics import confusion_matrix\n",
    "\n",
    "x_min, x_max = 0, 15\n",
    "y_min, y_max = 0, 10\n",
    "step = .1\n",
    "# to plot the boundary, we're going to create a matrix of every possible point\n",
    "# then label each point as a wolf or cow using our classifier\n",
    "xx, yy = np.meshgrid(np.arange(x_min, x_max, step), np.arange(y_min, y_max, step))\n",
    "\n",
    "df = pd.DataFrame(data={'x': xx.ravel(), 'y': yy.ravel()})\n",
    "\n",
    "df['color_gauge'] = (df.x-7.5)**2 + (df.y-5)**2\n",
    "df['color'] = df.color_gauge.apply(lambda x: \"red\" if x <= 15 else \"green\")\n",
    "df['color_as_int'] = df.color.apply(lambda x: 0 if x==\"red\" else 1)\n",
    "\n",
    "print(\"Points on flag:\")\n",
    "print(df.groupby('color').size())\n",
    "\n",
    "figure = 1\n",
    "\n",
    "# plot a figure for the entire dataset\n",
    "for color in df.color.unique():\n",
    "    idx = df.color==color\n",
    "    pl.subplot(2, 2, figure)\n",
    "    pl.scatter(df[idx].x, df[idx].y, color=color)\n",
    "    pl.title('Actual')\n",
    "\n",
    "\n",
    "train_idx = df.x < 10\n",
    "\n",
    "train = df[train_idx]\n",
    "test = df[-train_idx]\n",
    "\n",
    "\n",
    "print(\"Training Set Size: %d\" % len(train))\n",
    "print(\"Test Set Size: %d\" % len(test))\n",
    "\n",
    "# train using the x and y position coordiantes\n",
    "cols = [\"x\", \"y\"]\n",
    "\n",
    "clfs = {\n",
    "    \"SVM\": svm.SVC(degree=0.5),\n",
    "    \"Logistic\" : linear_model.LogisticRegression(),\n",
    "    \"Decision Tree\": tree.DecisionTreeClassifier()\n",
    "}\n",
    "\n",
    "\n",
    "# racehorse different classifiers and plot the results\n",
    "for clf_name, clf in clfs.items():\n",
    "    figure += 1\n",
    "\n",
    "    # train the classifier\n",
    "    clf.fit(train[cols], train.color_as_int)\n",
    "\n",
    "    # get the predicted values from the test set\n",
    "    test['predicted_color_as_int'] = clf.predict(test[cols])\n",
    "    test['pred_color'] = test.predicted_color_as_int.apply(lambda x: \"red\" if x==0 else \"green\")\n",
    "    \n",
    "    # create a new subplot on the plot\n",
    "    pl.subplot(2, 2, figure)\n",
    "    # plot each predicted color\n",
    "    for color in test.pred_color.unique():\n",
    "        # plot only rows where pred_color is equal to color\n",
    "        idx = test.pred_color==color\n",
    "        pl.scatter(test[idx].x, test[idx].y, color=color)\n",
    "\n",
    "    # plot the training set as well\n",
    "    for color in train.color.unique():\n",
    "        idx = train.color==color\n",
    "        pl.scatter(train[idx].x, train[idx].y, color=color)\n",
    "\n",
    "    # add a dotted line to show the boundary between the training and test set\n",
    "    # (everything to the right of the line is in the test set)\n",
    "    #this plots a vertical line\n",
    "    train_line_y = np.linspace(y_min, y_max) #evenly spaced array from 0 to 10\n",
    "    train_line_x = np.repeat(10, len(train_line_y)) #repeat 10 (threshold for traininset) n times\n",
    "    # add a black, dotted line to the subplot\n",
    "    pl.plot(train_line_x, train_line_y, 'k--', color=\"black\")\n",
    "    \n",
    "    pl.title(clf_name)\n",
    "\n",
    "    print(\"Confusion Matrix for %s:\" % clf_name)\n",
    "    print(confusion_matrix(test.color, test.pred_color))\n",
    "pl.show()"
   ]
  },
  {
   "cell_type": "code",
   "execution_count": null,
   "metadata": {
    "collapsed": true
   },
   "outputs": [],
   "source": []
  }
 ],
 "metadata": {
  "anaconda-cloud": {},
  "kernelspec": {
   "display_name": "Python [conda root]",
   "language": "python",
   "name": "conda-root-py"
  },
  "language_info": {
   "codemirror_mode": {
    "name": "ipython",
    "version": 3
   },
   "file_extension": ".py",
   "mimetype": "text/x-python",
   "name": "python",
   "nbconvert_exporter": "python",
   "pygments_lexer": "ipython3",
   "version": "3.5.2"
  },
  "widgets": {
   "state": {
    "d14dd952c8fe4205bb6032bfb7c0b3c9": {
     "views": [
      {
       "cell_index": 19
      }
     ]
    }
   },
   "version": "1.2.0"
  }
 },
 "nbformat": 4,
 "nbformat_minor": 1
}
